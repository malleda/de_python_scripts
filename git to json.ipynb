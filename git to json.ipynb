{
 "cells": [
  {
   "cell_type": "code",
   "execution_count": null,
   "id": "5ec84402",
   "metadata": {},
   "outputs": [
    {
     "name": "stdout",
     "output_type": "stream",
     "text": [
      "✅ JSON file created with 18 entries.\n"
     ]
    }
   ],
   "source": [
    "import requests\n",
    "import json\n",
    "\n",
    "# GitHub API endpoint for the repo contents\n",
    "url = \"https://api.github.com/repos/malleda/data-engineering-repo/contents/\"\n",
    "\n",
    "response = requests.get(url)\n",
    "data = response.json()\n",
    "\n",
    "files_list = []\n",
    "\n",
    "# Loop through files in the repo root\n",
    "for item in data:\n",
    "    if item['name'].endswith(\".csv\"):\n",
    "        files_list.append({\n",
    "            \"rel_url\":  item['download_url'].split(\".com/\")[1],   # relative path inside repo           \n",
    "            \"base_url\": item['download_url'].split(\".com/\")[0],  # base URL for the file\n",
    "\n",
    "            # \"url\":item['url'],\n",
    "        })\n",
    "\n",
    "# Save as JSON\n",
    "with open(\"files.json\", \"w\") as f:\n",
    "    json.dump(files_list, f, indent=4)\n",
    "\n",
    "print(\"✅ JSON file created with\", len(files_list), \"entries.\")\n"
   ]
  }
 ],
 "metadata": {
  "kernelspec": {
   "display_name": "Python 3",
   "language": "python",
   "name": "python3"
  },
  "language_info": {
   "codemirror_mode": {
    "name": "ipython",
    "version": 3
   },
   "file_extension": ".py",
   "mimetype": "text/x-python",
   "name": "python",
   "nbconvert_exporter": "python",
   "pygments_lexer": "ipython3",
   "version": "3.13.7"
  }
 },
 "nbformat": 4,
 "nbformat_minor": 5
}
